{
 "nbformat": 4,
 "nbformat_minor": 0,
 "metadata": {
  "kernelspec": {
   "display_name": "Python 3",
   "language": "python",
   "name": "python3"
  },
  "language_info": {
   "codemirror_mode": {
    "name": "ipython",
    "version": 3
   },
   "file_extension": ".py",
   "mimetype": "text/x-python",
   "name": "python",
   "nbconvert_exporter": "python",
   "pygments_lexer": "ipython3",
   "version": "3.8.6"
  },
  "colab": {
   "name": "Kopie von direct_gmia_tutorial.ipynb",
   "provenance": [
    {
     "file_id": "https://github.com/hallojs/ml-pepr/blob/master/notebooks/direct_gmia_tutorial.ipynb",
     "timestamp": 1610132138290
    }
   ],
   "collapsed_sections": [],
   "toc_visible": true
  },
  "accelerator": "GPU"
 },
 "cells": [
  {
   "cell_type": "markdown",
   "metadata": {
    "collapsed": false,
    "id": "ZMy7l9Ml5E86"
   },
   "source": [
    "# PePR: Direct Generalized Membership Inference Attack\n",
    "Attack a single target model with a singe attack configuration."
   ]
  },
  {
   "cell_type": "markdown",
   "metadata": {
    "id": "Ekcuhw2jW5pe"
   },
   "source": [
    "## Prep Google Colab Enviornment\n",
    "**Important: Restart the Runtime after this Cell!**\n",
    "The restart is needed because of `pip install ./gmia`."
   ]
  },
  {
   "cell_type": "code",
   "metadata": {
    "colab": {
     "base_uri": "https://localhost:8080/"
    },
    "id": "cdGfmabWVV4A",
    "executionInfo": {
     "status": "ok",
     "timestamp": 1610126130512,
     "user_tz": -60,
     "elapsed": 8943,
     "user": {
      "displayName": "",
      "photoUrl": "",
      "userId": ""
     }
    },
    "outputId": "3d1008b3-d9dc-46e3-da5c-eb2a4bfea3c4"
   },
   "source": [
    "!git clone https://github.com/hallojs/ml-pepr.git\n",
    "%pip install ./ml-pepr\n",
    "%pip install pylatex"
   ],
   "execution_count": null,
   "outputs": []
  },
  {
   "cell_type": "markdown",
   "metadata": {
    "collapsed": false,
    "pycharm": {
     "name": "#%% md\n"
    },
    "id": "MiMZinj45E88"
   },
   "source": [
    "## Imports"
   ]
  },
  {
   "cell_type": "code",
   "metadata": {
    "pycharm": {
     "name": "#%%\n"
    },
    "colab": {
     "base_uri": "https://localhost:8080/"
    },
    "id": "T6VkFA_G5E89",
    "executionInfo": {
     "status": "ok",
     "timestamp": 1610126143723,
     "user_tz": -60,
     "elapsed": 2543,
     "user": {
      "displayName": "",
      "photoUrl": "",
      "userId": ""
     }
    },
    "outputId": "eb7f4a74-fca1-40c2-9da9-1d4a8f3a5336"
   },
   "source": [
    "from pepr.privacy import gmia\n",
    "from pepr.utilities import assign_record_ids_to_target_models\n",
    "\n",
    "import tensorflow as tf\n",
    "from tensorflow.keras import models\n",
    "from tensorflow.keras import optimizers\n",
    "from tensorflow.keras.models import Sequential\n",
    "from tensorflow.keras.layers import MaxPooling2D\n",
    "from tensorflow.keras.layers import Conv2D\n",
    "from tensorflow.keras.layers import Activation\n",
    "from tensorflow.keras.layers import Dropout\n",
    "from tensorflow.keras.layers import Flatten\n",
    "from tensorflow.keras.layers import Dense\n",
    "\n",
    "import numpy as np\n",
    "import logging"
   ],
   "execution_count": null,
   "outputs": []
  },
  {
   "cell_type": "markdown",
   "metadata": {
    "collapsed": false,
    "pycharm": {
     "name": "#%% md\n"
    },
    "id": "N351gzWI5E89"
   },
   "source": [
    "## Setup Logging"
   ]
  },
  {
   "cell_type": "code",
   "metadata": {
    "pycharm": {
     "name": "#%%\n"
    },
    "id": "Gt3VHcLa5E89"
   },
   "source": [
    "formatter = logging.Formatter('%(asctime)s - %(name)s - %(levelname)s - %(message)s', '%Y-%m-%d %H:%M:%S')\n",
    "\n",
    "# TensorFlow Logger\n",
    "file_handler_tf = logging.FileHandler('tf.log')\n",
    "file_handler_tf.setLevel(logging.INFO)\n",
    "file_handler_tf.setFormatter(formatter)\n",
    "\n",
    "tf.get_logger().setLevel(logging.INFO)\n",
    "logger_tf = tf.get_logger()\n",
    "logger_tf.addHandler(file_handler_tf)\n",
    "\n",
    "# PePR Logger\n",
    "file_handler_pr = logging.FileHandler('pepr.privacy.gmia.log')\n",
    "file_handler_pr.setLevel(logging.DEBUG)\n",
    "file_handler_pr.setFormatter(formatter)\n",
    "\n",
    "stream_handler_pr = logging.StreamHandler()\n",
    "stream_handler_pr.setLevel(logging.DEBUG)\n",
    "stream_handler_pr.setFormatter(formatter)\n",
    "\n",
    "logger_pr = logging.getLogger('pepr.privacy.gmia')\n",
    "logger_pr.addHandler(file_handler_pr)\n",
    "logger_pr.addHandler(stream_handler_pr)"
   ],
   "execution_count": null,
   "outputs": []
  },
  {
   "cell_type": "markdown",
   "metadata": {
    "collapsed": false,
    "pycharm": {
     "name": "#%% md\n"
    },
    "id": "HOhNCK6u5E8-"
   },
   "source": [
    "## A Few Function Definitions"
   ]
  },
  {
   "cell_type": "code",
   "metadata": {
    "pycharm": {
     "name": "#%%\n"
    },
    "id": "YgTEfttw5E8-"
   },
   "source": [
    "def create_model(input_shape, n_categories):\n",
    "  \"\"\"Architecture of the target and reference models.\n",
    "\n",
    "  Parameters\n",
    "  ----------\n",
    "  input_shape : tuple\n",
    "      Dimensions of the input for the target/training\n",
    "  n_categories : int\n",
    "      number of categories for the prediction\n",
    "  models.\n",
    "\n",
    "  Returns\n",
    "  -------\n",
    "  tensorflow.python.keras.engine.sequential.Sequential\n",
    "      A convolutional neuronal network model.\n",
    "  \"\"\"\n",
    "  model = Sequential()\n",
    "\n",
    "  # first convolution layer\n",
    "  model.add(Conv2D(filters=32, kernel_size=(5, 5), strides=(\n",
    "      1, 1), padding='same', input_shape=input_shape))\n",
    "  model.add(Activation('relu'))\n",
    "\n",
    "  # max pooling layer\n",
    "  model.add(MaxPooling2D(pool_size=(2, 2), strides=(2, 2), padding='same'))\n",
    "\n",
    "  # second convolution layer\n",
    "  model.add(Conv2D(filters=64, kernel_size=(\n",
    "      5, 5), strides=(1, 1), padding='same'))\n",
    "  model.add(Activation('relu'))\n",
    "\n",
    "  # max pooling layer\n",
    "  model.add(MaxPooling2D(pool_size=(2, 2), strides=(2, 2), padding='same'))\n",
    "\n",
    "  # fully connected layer\n",
    "  model.add(Flatten())\n",
    "  model.add(Dense(1024))\n",
    "  model.add(Activation('relu'))\n",
    "\n",
    "  # drop out\n",
    "  model.add(Dropout(rate=0.5))\n",
    "\n",
    "  # fully connected layer\n",
    "  model.add(Dense(n_categories))\n",
    "  model.add(Activation('softmax'))\n",
    "\n",
    "  return model\n",
    "\n",
    "def create_compile_model():\n",
    "  \"\"\"Create compiled model.\n",
    "  \n",
    "  At the moment pepr.gmia needs this function to train the reference models.\n",
    "\n",
    "  Returns\n",
    "  -------\n",
    "    tensorflow.python.keras.engine.sequential.Sequential\n",
    "      A compiled tensorflow model.\n",
    "  \"\"\"\n",
    "  input_shape = (28, 28, 1)\n",
    "  number_classes = 10\n",
    "\n",
    "  model = create_model(input_shape, number_classes)\n",
    "\n",
    "  optimizer = optimizers.Adam(lr=0.0001)\n",
    "  loss = 'categorical_crossentropy'\n",
    "  metrics = [\"accuracy\"]\n",
    "  model.compile(optimizer, loss=loss, metrics=metrics)\n",
    "\n",
    "  return model\n",
    "\n",
    "def load_fashion_mnist():\n",
    "    \"\"\"Loads and preprocesses the fashion mnist dataset.\n",
    "\n",
    "    Returns\n",
    "    -------\n",
    "    tuple\n",
    "        (training data, training labels, test data, test labels)\n",
    "    \"\"\"\n",
    "    train, test = tf.keras.datasets.fashion_mnist.load_data()\n",
    "    train_data, train_labels = train\n",
    "    test_data, test_labels = test\n",
    "\n",
    "    # Normalize the data to a range between 0 and 1\n",
    "    train_data = np.array(train_data, dtype=np.float32) / 255\n",
    "    test_data = np.array(test_data, dtype=np.float32) / 255\n",
    "\n",
    "    # Reshape the images to (28, 28, 1)\n",
    "    train_data = train_data.reshape(train_data.shape[0], 28, 28, 1)\n",
    "    test_data = test_data.reshape(test_data.shape[0], 28, 28, 1)\n",
    "\n",
    "    train_labels = np.array(train_labels, dtype=np.int32)\n",
    "    test_labels = np.array(test_labels, dtype=np.int32)\n",
    "\n",
    "    return np.vstack((train_data, test_data)), np.hstack((train_labels, test_labels))"
   ],
   "execution_count": null,
   "outputs": []
  },
  {
   "cell_type": "markdown",
   "metadata": {
    "collapsed": false,
    "pycharm": {
     "name": "#%% md\n"
    },
    "id": "rBEkni1P5E8_"
   },
   "source": [
    "## Data Setup"
   ]
  },
  {
   "cell_type": "code",
   "metadata": {
    "pycharm": {
     "name": "#%%\n"
    },
    "colab": {
     "base_uri": "https://localhost:8080/"
    },
    "id": "2NmqTilU5E8_",
    "executionInfo": {
     "status": "ok",
     "timestamp": 1610126151902,
     "user_tz": -60,
     "elapsed": 1561,
     "user": {
      "displayName": "",
      "photoUrl": "",
      "userId": ""
     }
    },
    "outputId": "e1e8898a-bdc6-49d2-d75d-4285b7dd1747"
   },
   "source": [
    "data, labels = load_fashion_mnist()"
   ],
   "execution_count": null,
   "outputs": []
  },
  {
   "cell_type": "markdown",
   "metadata": {
    "collapsed": false,
    "pycharm": {
     "name": "#%% md\n"
    },
    "id": "EiuVVRcw5E8_"
   },
   "source": [
    "## Train a Target Model"
   ]
  },
  {
   "cell_type": "code",
   "metadata": {
    "pycharm": {
     "name": "#%%\n"
    },
    "id": "PtXg96Dg5E8_",
    "colab": {
     "base_uri": "https://localhost:8080/"
    },
    "executionInfo": {
     "status": "ok",
     "timestamp": 1610126194268,
     "user_tz": -60,
     "elapsed": 41676,
     "user": {
      "displayName": "",
      "photoUrl": "",
      "userId": ""
     }
    },
    "outputId": "727457d7-d348-489a-caa1-8f60be230438"
   },
   "source": [
    "target_model = create_compile_model()\n",
    "target_model.fit(data[40000:50000],\n",
    "                 tf.keras.utils.to_categorical(labels[40000:50000], num_classes=10),\n",
    "                 epochs=50,\n",
    "                 batch_size=50,\n",
    "                 verbose=0)\n",
    "target_model.save('data/target_model')"
   ],
   "execution_count": null,
   "outputs": []
  },
  {
   "cell_type": "markdown",
   "metadata": {
    "collapsed": false,
    "pycharm": {
     "name": "#%% md\n"
    },
    "id": "b2wXud4p5E9A"
   },
   "source": [
    "## Run the Attack"
   ]
  },
  {
   "cell_type": "code",
   "metadata": {
    "pycharm": {
     "name": "#%%\n"
    },
    "colab": {
     "base_uri": "https://localhost:8080/"
    },
    "id": "LCpR6aX85E9A",
    "executionInfo": {
     "status": "ok",
     "timestamp": 1610129604671,
     "user_tz": -60,
     "elapsed": 3438066,
     "user": {
      "displayName": "",
      "photoUrl": "",
      "userId": ""
     }
    },
    "outputId": "2a69c582-69a3-4756-f65f-1eaa740d91d4"
   },
   "source": [
    "attack_pars = {\n",
    "    'number_classes': 10,\n",
    "    'number_reference_models': 100,\n",
    "    'reference_training_set_size': 10000,\n",
    "    'create_compile_model': create_compile_model,\n",
    "    'reference_epochs': 50,\n",
    "    'reference_batch_size': 50,\n",
    "    'hlf_metric': 'cosine',\n",
    "    'hlf_layer_number': 10,\n",
    "    'number_target_records': 25\n",
    "}\n",
    "\n",
    "# single target\n",
    "data_conf = {\n",
    "    'reference_indices': list(range(40000)),\n",
    "    'target_indices': list(range(40000, 50000)),\n",
    "    'evaluation_indices': list(range(40000, 60000)),\n",
    "    'record_indices_per_target': np.array([np.arange(10000)])\n",
    "}\n",
    "\n",
    "gmia_attack = gmia.DirectGmia('Playground GMIA', attack_pars, data, labels, data_conf, [target_model])\n",
    "\n",
    "gmia_attack.run(save_path='data')\n",
    "\n",
    "gmia_attack.create_attack_report()"
   ],
   "execution_count": null,
   "outputs": []
  },
  {
   "cell_type": "code",
   "metadata": {
    "id": "C2WPG0BsroFD"
   },
   "source": [
    "# Zip report directory if you want to download it from google colab\n",
    "!zip -r gmia_report.zip gmia_report"
   ],
   "execution_count": null,
   "outputs": []
  }
 ]
}