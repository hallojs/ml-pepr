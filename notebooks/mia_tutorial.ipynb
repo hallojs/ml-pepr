{
 "nbformat": 4,
 "nbformat_minor": 0,
 "metadata": {
  "colab": {
   "name": "MIA tutorial.ipynb",
   "provenance": [],
   "collapsed_sections": [],
   "toc_visible": true
  },
  "kernelspec": {
   "name": "python3",
   "display_name": "Python 3"
  },
  "language_info": {
   "name": "python"
  },
  "accelerator": "GPU"
 },
 "cells": [
  {
   "cell_type": "markdown",
   "metadata": {
    "id": "EJ0QXGnPMa3e"
   },
   "source": [
    "# PePR: Membership Inference Attack (MIA)\n",
    "Attack a single target model with a singe attack configuration.\n"
   ]
  },
  {
   "cell_type": "markdown",
   "metadata": {
    "id": "xZqoHZtpMjWX"
   },
   "source": [
    "## Prepare Environment\n",
    "**Important: Restart the Runtime after this Cell!**\n",
    "The restart is needed because of `pip install ./ml-pepr`."
   ]
  },
  {
   "cell_type": "code",
   "metadata": {
    "id": "7s9Dgj5SaJEo"
   },
   "source": [
    "!git clone https://github.com/hallojs/ml-pepr.git\n",
    "%pip install ./ml-pepr\n",
    "%pip install pylatex"
   ],
   "execution_count": null,
   "outputs": []
  },
  {
   "cell_type": "markdown",
   "metadata": {
    "id": "PTAzFKWvOIVx"
   },
   "source": [
    "## Imports"
   ]
  },
  {
   "cell_type": "code",
   "metadata": {
    "id": "MNSjF3PIGWtJ"
   },
   "source": [
    "from pepr.privacy import mia\n",
    "\n",
    "import tensorflow as tf\n",
    "from tensorflow.keras import optimizers\n",
    "\n",
    "import numpy as np\n",
    "import logging"
   ],
   "execution_count": null,
   "outputs": []
  },
  {
   "cell_type": "markdown",
   "metadata": {
    "id": "4yYA_6YSOejH"
   },
   "source": [
    "## Setup Logging"
   ]
  },
  {
   "cell_type": "code",
   "metadata": {
    "id": "MWqm9M7wGX8O"
   },
   "source": [
    "formatter = logging.Formatter('%(asctime)s - %(name)s - %(levelname)s - %(message)s', '%Y-%m-%d %H:%M:%S')\n",
    "\n",
    "# TensorFlow Logger\n",
    "file_handler_tf = logging.FileHandler('tf.log')\n",
    "file_handler_tf.setLevel(logging.INFO)\n",
    "file_handler_tf.setFormatter(formatter)\n",
    "\n",
    "tf.get_logger().setLevel(logging.INFO)\n",
    "logger_tf = tf.get_logger()\n",
    "logger_tf.addHandler(file_handler_tf)\n",
    "\n",
    "# PePR Logger\n",
    "file_handler_pr = logging.FileHandler('pepr.privacy.mia.log')\n",
    "file_handler_pr.setLevel(logging.DEBUG)\n",
    "file_handler_pr.setFormatter(formatter)\n",
    "\n",
    "stream_handler_pr = logging.StreamHandler()\n",
    "stream_handler_pr.setLevel(logging.DEBUG)\n",
    "stream_handler_pr.setFormatter(formatter)\n",
    "\n",
    "logger_pr = logging.getLogger('pepr.privacy.mia')\n",
    "logger_pr.addHandler(file_handler_pr)\n",
    "logger_pr.addHandler(stream_handler_pr)"
   ],
   "execution_count": null,
   "outputs": []
  },
  {
   "cell_type": "markdown",
   "metadata": {
    "id": "Mp9p3_iTOjzi"
   },
   "source": [
    "## Functions\n",
    "Functions for creating models and preparing the dataset."
   ]
  },
  {
   "cell_type": "code",
   "metadata": {
    "id": "07Yizg2MJcgj"
   },
   "source": [
    "def get_target_model(input_shape, number_of_labels):\n",
    "    target_model = tf.keras.Sequential([\n",
    "        tf.keras.layers.Conv2D(32, (3,3), activation=\"tanh\", padding='same', input_shape=input_shape),\n",
    "        tf.keras.layers.MaxPool2D((2,2)),\n",
    "        tf.keras.layers.Conv2D(64, (3,3), activation=\"tanh\", padding='same'),\n",
    "        tf.keras.layers.MaxPool2D((2,2)),\n",
    "        tf.keras.layers.Flatten(),\n",
    "        tf.keras.layers.Dense(128, activation=\"tanh\"),\n",
    "        tf.keras.layers.Dense(number_of_labels),\n",
    "        tf.keras.layers.Softmax()\n",
    "    ])\n",
    "    return target_model\n",
    "\n",
    "def get_attack_model(number_of_labels):\n",
    "    attack_model = tf.keras.Sequential([\n",
    "        tf.keras.layers.Dense(64, activation=\"relu\", input_shape=(number_of_labels,)),\n",
    "        tf.keras.layers.Dense(1, activation=\"sigmoid\"),\n",
    "    ])\n",
    "    return attack_model\n",
    "\n",
    "def create_compile_shadow_model():\n",
    "    \"\"\"Create compiled target/shadow model.\n",
    "\n",
    "    Returns\n",
    "    -------\n",
    "    tensorflow.python.keras.engine.sequential.Sequential\n",
    "        A compiled tensorflow model.\n",
    "    \"\"\"\n",
    "    input_shape = (32, 32, 3)\n",
    "    number_classes = 100\n",
    "\n",
    "    model = get_target_model(input_shape, number_classes)\n",
    "\n",
    "    optimizer = optimizers.Adam(lr=0.0001)\n",
    "    loss = 'sparse_categorical_crossentropy'\n",
    "    metrics = [\"accuracy\"]\n",
    "    model.compile(optimizer, loss=loss, metrics=metrics)\n",
    "\n",
    "    return model\n",
    "\n",
    "def create_compile_attack_model():\n",
    "    \"\"\"Create compiled attack model.\n",
    "\n",
    "    Returns\n",
    "    -------\n",
    "    tensorflow.python.keras.engine.sequential.Sequential\n",
    "        A compiled tensorflow model.\n",
    "    \"\"\"\n",
    "    number_classes = 100\n",
    "\n",
    "    model = get_attack_model(number_classes)\n",
    "\n",
    "    optimizer = optimizers.Adam(lr=0.0001)\n",
    "    loss = 'binary_crossentropy'\n",
    "    metrics = [\"accuracy\"]\n",
    "    model.compile(optimizer, loss=loss, metrics=metrics)\n",
    "\n",
    "    return model\n",
    "\n",
    "def load_cifar100():\n",
    "    \"\"\"Loads and preprocesses the CIFAR100 dataset.\n",
    "\n",
    "    Returns\n",
    "    -------\n",
    "    tuple\n",
    "        (training data, training labels, test data, test labels)\n",
    "    \"\"\"\n",
    "    train, test = tf.keras.datasets.cifar100.load_data()\n",
    "    train_data, train_labels = train\n",
    "    test_data, test_labels = test\n",
    "\n",
    "    # Normalize the data to a range between 0 and 1\n",
    "    train_data = np.array(train_data, dtype=np.float32) / 255\n",
    "    test_data = np.array(test_data, dtype=np.float32) / 255\n",
    "\n",
    "    # Reshape the images to (32, 32, 3)\n",
    "    train_data = train_data.reshape(train_data.shape[0], 32, 32, 3)\n",
    "    test_data = test_data.reshape(test_data.shape[0], 32, 32, 3)\n",
    "\n",
    "    train_labels = np.reshape(np.array(train_labels, dtype=np.int32), (train_labels.shape[0],))\n",
    "    test_labels = np.reshape(np.array(test_labels, dtype=np.int32), (test_labels.shape[0],))\n",
    "\n",
    "    return np.vstack((train_data, test_data)), np.hstack((train_labels, test_labels))"
   ],
   "execution_count": null,
   "outputs": []
  },
  {
   "cell_type": "markdown",
   "metadata": {
    "id": "bPvmdtEJPzkp"
   },
   "source": [
    "## Init Dataset"
   ]
  },
  {
   "cell_type": "code",
   "metadata": {
    "id": "V4YsvcPN-cd6"
   },
   "source": [
    "data, labels = load_cifar100()"
   ],
   "execution_count": null,
   "outputs": []
  },
  {
   "cell_type": "markdown",
   "metadata": {
    "id": "y7kzZGEJP2Zb"
   },
   "source": [
    "## Train Target Model"
   ]
  },
  {
   "cell_type": "code",
   "metadata": {
    "id": "CNtEwVtxLLer"
   },
   "source": [
    "target_model = create_compile_shadow_model()\n",
    "target_model.fit(data[40000:50000],\n",
    "                 labels[40000:50000],\n",
    "                 epochs=100,\n",
    "                 batch_size=50,\n",
    "                 verbose=0)\n",
    "target_model.save('data/target_model')"
   ],
   "execution_count": null,
   "outputs": []
  },
  {
   "cell_type": "markdown",
   "metadata": {
    "id": "aTpRC2abP_br"
   },
   "source": [
    "## Run the Attack"
   ]
  },
  {
   "cell_type": "code",
   "metadata": {
    "id": "lyEZSu3tLOcI"
   },
   "source": [
    "attack_pars = {\n",
    "    'number_classes': 100,\n",
    "    'number_shadow_models': 100,\n",
    "    'shadow_training_set_size': 2500,\n",
    "    'create_compile_shadow_model': create_compile_shadow_model,\n",
    "    'create_compile_attack_model': create_compile_attack_model,\n",
    "    'shadow_epochs': 100,\n",
    "    'shadow_batch_size': 50,\n",
    "    'attack_epochs': 50,\n",
    "    'attack_batch_size': 50,\n",
    "}\n",
    "\n",
    "# single target\n",
    "data_conf = {\n",
    "    'shadow_indices': list(range(40000)),\n",
    "    'target_indices': list(range(40000, 50000)),\n",
    "    'evaluation_indices': list(range(40000, 60000)),\n",
    "    'record_indices_per_target': np.array([np.arange(10000)])\n",
    "}\n",
    "\n",
    "mia_attack = mia.Mia(\"MIA\", attack_pars, data, labels, data_conf, [target_model])\n",
    "\n",
    "mia_attack.run(save_path=\"data\")\n",
    "\n",
    "mia_attack.create_attack_report()"
   ],
   "execution_count": null,
   "outputs": []
  },
  {
   "cell_type": "markdown",
   "metadata": {
    "id": "kxokc1KnQqzz"
   },
   "source": [
    "### Save Generated Data and Report\n",
    "To download the `data` or `mia_report` directory from Google Colab, it needs to be compressed as a .zip file."
   ]
  },
  {
   "cell_type": "code",
   "metadata": {
    "id": "ORNqc3EDyUeG"
   },
   "source": [
    "!zip -r -q data.zip data"
   ],
   "execution_count": null,
   "outputs": []
  },
  {
   "cell_type": "code",
   "metadata": {
    "id": "1eLn6oYWptj4"
   },
   "source": [
    "!zip -r -q report.zip mia_report"
   ],
   "execution_count": null,
   "outputs": []
  }
 ]
}