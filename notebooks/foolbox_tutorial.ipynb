{
  "nbformat": 4,
  "nbformat_minor": 0,
  "metadata": {
    "colab": {
      "name": "foolbox_tutorial.ipynb",
      "provenance": [],
      "toc_visible": true
    },
    "kernelspec": {
      "name": "python3",
      "display_name": "Python 3"
    },
    "language_info": {
      "name": "python"
    },
    "accelerator": "GPU"
  },
  "cells": [
    {
      "cell_type": "markdown",
      "metadata": {
        "id": "ZyOWvSmM9SVK"
      },
      "source": [
        "# PePR: Foolbox Attacks\n",
        "Attack a single target with a foolbox attack."
      ]
    },
    {
      "cell_type": "markdown",
      "metadata": {
        "id": "GMXPjypg9rWW"
      },
      "source": [
        "## Prepare Environment\n",
        "**Important: Restart the Runtime after this Cell!**\n",
        "The restart is needed because of `pip install -e`."
      ]
    },
    {
      "cell_type": "code",
      "metadata": {
        "id": "4LA6oZwyJzKP"
      },
      "source": [
        "!git clone https://github.com/hallojs/ml-pepr.git\n",
        "%pip install ./ml-pepr\n",
        "%pip install pylatex"
      ],
      "execution_count": null,
      "outputs": []
    },
    {
      "cell_type": "markdown",
      "metadata": {
        "id": "rbaUOlrW94RB"
      },
      "source": [
        "## Imports"
      ]
    },
    {
      "cell_type": "code",
      "metadata": {
        "id": "xLR2dBuK9AYa"
      },
      "source": [
        "from pepr.robustness import foolbox_wrapper\n",
        "\n",
        "import tensorflow as tf\n",
        "\n",
        "import numpy as np\n",
        "import logging"
      ],
      "execution_count": 1,
      "outputs": []
    },
    {
      "cell_type": "markdown",
      "metadata": {
        "id": "CSGJobdD-VK7"
      },
      "source": [
        "## Setup Logging"
      ]
    },
    {
      "cell_type": "code",
      "metadata": {
        "id": "oK_VuEs3-Y0y"
      },
      "source": [
        "formatter = logging.Formatter('%(asctime)s - %(name)s - %(levelname)s - %(message)s', '%Y-%m-%d %H:%M:%S')\n",
        "\n",
        "# TensorFlow Logger\n",
        "file_handler_tf = logging.FileHandler('tf.log')\n",
        "file_handler_tf.setLevel(logging.INFO)\n",
        "file_handler_tf.setFormatter(formatter)\n",
        "\n",
        "tf.get_logger().setLevel(logging.INFO)\n",
        "logger_tf = tf.get_logger()\n",
        "logger_tf.addHandler(file_handler_tf)\n",
        "\n",
        "# PePR Logger\n",
        "file_handler_pr = logging.FileHandler('pepr.robustness.foolbox_wrapper.log')\n",
        "file_handler_pr.setLevel(logging.DEBUG)\n",
        "file_handler_pr.setFormatter(formatter)\n",
        "\n",
        "stream_handler_pr = logging.StreamHandler()\n",
        "stream_handler_pr.setLevel(logging.DEBUG)\n",
        "stream_handler_pr.setFormatter(formatter)\n",
        "\n",
        "logger_pr = logging.getLogger('pepr.robustness.foolbox_wrapper')\n",
        "logger_pr.addHandler(file_handler_pr)\n",
        "logger_pr.addHandler(stream_handler_pr)"
      ],
      "execution_count": 2,
      "outputs": []
    },
    {
      "cell_type": "markdown",
      "metadata": {
        "id": "_VE9VQoH_Zn-"
      },
      "source": [
        "## Functions\n",
        "Functions for creating models and preparing the dataset."
      ]
    },
    {
      "cell_type": "code",
      "metadata": {
        "id": "P8nsHohk_NRb"
      },
      "source": [
        "def get_target_model(input_shape, number_of_labels):\n",
        "    target_model = tf.keras.Sequential([\n",
        "        tf.keras.layers.Conv2D(32, (3,3), activation=\"tanh\", padding='same', input_shape=input_shape),\n",
        "        tf.keras.layers.MaxPool2D((2,2)),\n",
        "        tf.keras.layers.Conv2D(64, (3,3), activation=\"tanh\", padding='same'),\n",
        "        tf.keras.layers.MaxPool2D((2,2)),\n",
        "        tf.keras.layers.Flatten(),\n",
        "        tf.keras.layers.Dense(128, activation=\"tanh\"),\n",
        "        tf.keras.layers.Dense(number_of_labels),\n",
        "        tf.keras.layers.Softmax()\n",
        "    ])\n",
        "    return target_model\n",
        "\n",
        "def create_compile_model():\n",
        "    from tensorflow.keras import models\n",
        "    from tensorflow.keras import optimizers\n",
        "    input_shape = (28, 28, 1)\n",
        "    number_classes = 10\n",
        "\n",
        "    model = get_target_model(input_shape, number_classes)\n",
        "\n",
        "    optimizer = optimizers.Adam(lr=0.0001)\n",
        "    loss = 'sparse_categorical_crossentropy'\n",
        "    metrics = [\"accuracy\"]\n",
        "    model.compile(optimizer, loss=loss, metrics=metrics)\n",
        "\n",
        "    return model\n",
        "\n",
        "def load_fashion_mnist():\n",
        "    train, test = tf.keras.datasets.fashion_mnist.load_data()\n",
        "    train_data, train_labels = train\n",
        "    test_data, test_labels = test\n",
        "\n",
        "    # Normalize the data to a range between 0 and 1\n",
        "    train_data = np.array(train_data, dtype=np.float32) / 255\n",
        "    test_data = np.array(test_data, dtype=np.float32) / 255\n",
        "\n",
        "    # Reshape the images to (28, 28, 1)\n",
        "    train_data = train_data.reshape(train_data.shape[0], 28, 28, 1)\n",
        "    test_data = test_data.reshape(test_data.shape[0], 28, 28, 1)\n",
        "\n",
        "    train_labels = np.array(train_labels, dtype=np.int32)\n",
        "    test_labels = np.array(test_labels, dtype=np.int32)\n",
        "\n",
        "    return np.vstack((train_data, test_data)), np.hstack((train_labels, test_labels))"
      ],
      "execution_count": 3,
      "outputs": []
    },
    {
      "cell_type": "markdown",
      "metadata": {
        "id": "ARsfiXgb_qNA"
      },
      "source": [
        "## Init Dataset"
      ]
    },
    {
      "cell_type": "code",
      "metadata": {
        "id": "SfIzqcoh_lCQ"
      },
      "source": [
        "data, labels = load_fashion_mnist()"
      ],
      "execution_count": null,
      "outputs": []
    },
    {
      "cell_type": "markdown",
      "metadata": {
        "id": "d-MY7ACP_uPf"
      },
      "source": [
        "## Train Target Model"
      ]
    },
    {
      "cell_type": "code",
      "metadata": {
        "id": "77m71_HV_tk3"
      },
      "source": [
        "target_model = create_compile_model()\n",
        "target_model.fit(data[40000:50000],\n",
        "                 labels[40000:50000],\n",
        "                 epochs=10,\n",
        "                 batch_size=50,\n",
        "                 verbose=1)\n",
        "target_model.save('data/target_model')"
      ],
      "execution_count": null,
      "outputs": []
    },
    {
      "cell_type": "markdown",
      "metadata": {
        "id": "dCqm7r5oABTw"
      },
      "source": [
        "## Run the Attack\n",
        "Run the [LinfDeepFoolAttack](https://hallojs.github.io/ml-pepr/foolbox_wrapper.html#pepr.robustness.foolbox_wrapper.LinfDeepFoolAttack) attack with one optional parameter `steps`."
      ]
    },
    {
      "cell_type": "code",
      "metadata": {
        "id": "0srRePTC_lgU"
      },
      "source": [
        "attack_pars = {\n",
        "    \"epsilons\": np.linspace(0.1,1,10),\n",
        "    \"steps\": 50,\n",
        "}\n",
        "\n",
        "data_conf = {\n",
        "    \"attack_indices_per_target\": np.array([np.arange(100)])\n",
        "}\n",
        "\n",
        "attack = foolbox_wrapper.LinfDeepFoolAttack(\"DeepFool\", attack_pars, data, labels, data_conf, [target_model])\n",
        "\n",
        "attack.run()"
      ],
      "execution_count": null,
      "outputs": []
    },
    {
      "cell_type": "markdown",
      "metadata": {
        "id": "iJWuQP5UEupz"
      },
      "source": [
        "### Create Attack Report"
      ]
    },
    {
      "cell_type": "code",
      "metadata": {
        "id": "ETQlAvr_Es5a"
      },
      "source": [
        "attack.create_attack_report()"
      ],
      "execution_count": 8,
      "outputs": []
    },
    {
      "cell_type": "code",
      "metadata": {
        "id": "7UdrvcxVPzTE"
      },
      "source": [
        "# Zip report directory if you want to download it from google colab\n",
        "!zip -r -q report.zip foolbox_report"
      ],
      "execution_count": 9,
      "outputs": []
    }
  ]
}